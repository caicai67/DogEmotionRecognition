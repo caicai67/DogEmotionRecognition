{
  "nbformat": 4,
  "nbformat_minor": 0,
  "metadata": {
    "colab": {
      "provenance": [],
      "include_colab_link": true
    },
    "kernelspec": {
      "name": "python3",
      "display_name": "Python 3"
    },
    "language_info": {
      "name": "python"
    }
  },
  "cells": [
    {
      "cell_type": "markdown",
      "metadata": {
        "id": "view-in-github",
        "colab_type": "text"
      },
      "source": [
        "<a href=\"https://colab.research.google.com/github/caicai67/DogEmotionRecognition/blob/master/Notebooks/Chap10/10_5_Convolution_For_MNIST.ipynb\" target=\"_parent\"><img src=\"https://colab.research.google.com/assets/colab-badge.svg\" alt=\"Open In Colab\"/></a>"
      ]
    },
    {
      "cell_type": "markdown",
      "source": [
        "# **Notebook 10.5: Convolution for MNIST**\n",
        "\n",
        "This notebook builds a proper network for 2D convolution.  It works with the MNIST dataset (figure 15.15a), which was the original classic dataset for classifying images.  The network will take a 28x28 grayscale image and classify it into one of 10 classes representing a digit.\n",
        "\n",
        "The code is adapted from https://nextjournal.com/gkoehler/pytorch-mnist\n",
        "\n",
        "Work through the cells below, running each cell in turn. In various places you will see the words \"TO DO\". Follow the instructions at these places and make predictions about what is going to happen or write code to complete the functions.\n",
        "\n",
        "Contact me at udlbookmail@gmail.com if you find any mistakes or have any suggestions.\n"
      ],
      "metadata": {
        "id": "t9vk9Elugvmi"
      }
    },
    {
      "cell_type": "code",
      "source": [
        "import torch\n",
        "import torchvision\n",
        "import torch.nn as nn\n",
        "import torch.nn.functional as F\n",
        "import torch.optim as optim\n",
        "import matplotlib.pyplot as plt\n",
        "import random"
      ],
      "metadata": {
        "id": "YrXWAH7sUWvU"
      },
      "execution_count": 2,
      "outputs": []
    },
    {
      "cell_type": "code",
      "source": [
        "# Run this once to load the train and test data straight into a dataloader class\n",
        "# that will provide the batches\n",
        "\n",
        "# (It may complain that some files are missing because the files seem to have been\n",
        "# reorganized on the underlying website, but it still seems to work). If everything is working\n",
        "# properly, then the whole notebook should run to the end without further problems\n",
        "# even before you make changes.\n",
        "batch_size_train = 64\n",
        "batch_size_test = 1000\n",
        "train_loader = torch.utils.data.DataLoader(\n",
        "  torchvision.datasets.MNIST('/files/', train=True, download=True,\n",
        "                             transform=torchvision.transforms.Compose([\n",
        "                               torchvision.transforms.ToTensor(),\n",
        "                               torchvision.transforms.Normalize(\n",
        "                                 (0.1307,), (0.3081,))\n",
        "                             ])),\n",
        "  batch_size=batch_size_train, shuffle=True)\n",
        "\n",
        "test_loader = torch.utils.data.DataLoader(\n",
        "  torchvision.datasets.MNIST('/files/', train=False, download=True,\n",
        "                             transform=torchvision.transforms.Compose([\n",
        "                               torchvision.transforms.ToTensor(),\n",
        "                               torchvision.transforms.Normalize(\n",
        "                                 (0.1307,), (0.3081,))\n",
        "                             ])),\n",
        "  batch_size=batch_size_test, shuffle=True)"
      ],
      "metadata": {
        "id": "wScBGXXFVadm",
        "outputId": "612f043b-7022-4ed1-c590-d44a311dddf5",
        "colab": {
          "base_uri": "https://localhost:8080/"
        }
      },
      "execution_count": 3,
      "outputs": [
        {
          "output_type": "stream",
          "name": "stdout",
          "text": [
            "Downloading http://yann.lecun.com/exdb/mnist/train-images-idx3-ubyte.gz\n",
            "Failed to download (trying next):\n",
            "<urlopen error [SSL: CERTIFICATE_VERIFY_FAILED] certificate verify failed: certificate has expired (_ssl.c:1007)>\n",
            "\n",
            "Downloading https://ossci-datasets.s3.amazonaws.com/mnist/train-images-idx3-ubyte.gz\n",
            "Downloading https://ossci-datasets.s3.amazonaws.com/mnist/train-images-idx3-ubyte.gz to /files/MNIST/raw/train-images-idx3-ubyte.gz\n"
          ]
        },
        {
          "output_type": "stream",
          "name": "stderr",
          "text": [
            "100%|██████████| 9912422/9912422 [00:01<00:00, 5048275.16it/s]\n"
          ]
        },
        {
          "output_type": "stream",
          "name": "stdout",
          "text": [
            "Extracting /files/MNIST/raw/train-images-idx3-ubyte.gz to /files/MNIST/raw\n",
            "\n",
            "Downloading http://yann.lecun.com/exdb/mnist/train-labels-idx1-ubyte.gz\n",
            "Failed to download (trying next):\n",
            "<urlopen error [SSL: CERTIFICATE_VERIFY_FAILED] certificate verify failed: certificate has expired (_ssl.c:1007)>\n",
            "\n",
            "Downloading https://ossci-datasets.s3.amazonaws.com/mnist/train-labels-idx1-ubyte.gz\n",
            "Downloading https://ossci-datasets.s3.amazonaws.com/mnist/train-labels-idx1-ubyte.gz to /files/MNIST/raw/train-labels-idx1-ubyte.gz\n"
          ]
        },
        {
          "output_type": "stream",
          "name": "stderr",
          "text": [
            "100%|██████████| 28881/28881 [00:00<00:00, 162134.69it/s]\n"
          ]
        },
        {
          "output_type": "stream",
          "name": "stdout",
          "text": [
            "Extracting /files/MNIST/raw/train-labels-idx1-ubyte.gz to /files/MNIST/raw\n",
            "\n",
            "Downloading http://yann.lecun.com/exdb/mnist/t10k-images-idx3-ubyte.gz\n",
            "Failed to download (trying next):\n",
            "<urlopen error [SSL: CERTIFICATE_VERIFY_FAILED] certificate verify failed: certificate has expired (_ssl.c:1007)>\n",
            "\n",
            "Downloading https://ossci-datasets.s3.amazonaws.com/mnist/t10k-images-idx3-ubyte.gz\n",
            "Downloading https://ossci-datasets.s3.amazonaws.com/mnist/t10k-images-idx3-ubyte.gz to /files/MNIST/raw/t10k-images-idx3-ubyte.gz\n"
          ]
        },
        {
          "output_type": "stream",
          "name": "stderr",
          "text": [
            "100%|██████████| 1648877/1648877 [00:02<00:00, 711513.73it/s]\n"
          ]
        },
        {
          "output_type": "stream",
          "name": "stdout",
          "text": [
            "Extracting /files/MNIST/raw/t10k-images-idx3-ubyte.gz to /files/MNIST/raw\n",
            "\n",
            "Downloading http://yann.lecun.com/exdb/mnist/t10k-labels-idx1-ubyte.gz\n",
            "Failed to download (trying next):\n",
            "<urlopen error [SSL: CERTIFICATE_VERIFY_FAILED] certificate verify failed: certificate has expired (_ssl.c:1007)>\n",
            "\n",
            "Downloading https://ossci-datasets.s3.amazonaws.com/mnist/t10k-labels-idx1-ubyte.gz\n",
            "Downloading https://ossci-datasets.s3.amazonaws.com/mnist/t10k-labels-idx1-ubyte.gz to /files/MNIST/raw/t10k-labels-idx1-ubyte.gz\n"
          ]
        },
        {
          "output_type": "stream",
          "name": "stderr",
          "text": [
            "100%|██████████| 4542/4542 [00:00<00:00, 7898229.17it/s]"
          ]
        },
        {
          "output_type": "stream",
          "name": "stdout",
          "text": [
            "Extracting /files/MNIST/raw/t10k-labels-idx1-ubyte.gz to /files/MNIST/raw\n",
            "\n"
          ]
        },
        {
          "output_type": "stream",
          "name": "stderr",
          "text": [
            "\n"
          ]
        }
      ]
    },
    {
      "cell_type": "code",
      "source": [],
      "metadata": {
        "id": "YGwbxJDEm88i"
      },
      "execution_count": null,
      "outputs": []
    },
    {
      "cell_type": "code",
      "source": [
        "# Let's draw some of the training data\n",
        "examples = enumerate(test_loader)\n",
        "batch_idx, (example_data, example_targets) = next(examples)\n",
        "\n",
        "fig = plt.figure()\n",
        "for i in range(6):\n",
        "  plt.subplot(2,3,i+1)\n",
        "  plt.tight_layout()\n",
        "  plt.imshow(example_data[i][0], cmap='gray', interpolation='none')\n",
        "  plt.title(\"Ground Truth: {}\".format(example_targets[i]))\n",
        "  plt.xticks([])\n",
        "  plt.yticks([])\n",
        "plt.show()"
      ],
      "metadata": {
        "id": "8bKADvLHbiV5",
        "outputId": "442b02bf-5557-44fd-8d3e-6a163bb14ea1",
        "colab": {
          "base_uri": "https://localhost:8080/",
          "height": 438
        }
      },
      "execution_count": 4,
      "outputs": [
        {
          "output_type": "display_data",
          "data": {
            "text/plain": [
              "<Figure size 640x480 with 6 Axes>"
            ],
            "image/png": "[encoded data removed]"
          },
          "metadata": {}
        }
      ]
    },
    {
      "cell_type": "markdown",
      "source": [
        "Define the network.  This is a more typical way to define a network than the sequential structure.  We define a class for the network, and define the parameters in the constructor.  Then we use a function called forward to actually run the network.  It's easy to see how you might use residual connections in this format."
      ],
      "metadata": {
        "id": "_sFvRDGrl4qe"
      }
    },
    {
      "cell_type": "code",
      "source": [
        "from os import X_OK\n",
        "# TODO Change this class to implement\n",
        "# 1. A valid convolution with kernel size 5, 1 input channel and 10 output channels\n",
        "# 2. A max pooling operation over a 2x2 area\n",
        "# 3. A Relu\n",
        "# 4. A valid convolution with kernel size 5, 10 input channels and 20 output channels\n",
        "# 5. A 2D Dropout layer\n",
        "# 6. A max pooling operation over a 2x2 area\n",
        "# 7. A relu\n",
        "# 8. A flattening operation\n",
        "# 9. A fully connected layer mapping from (whatever dimensions we are at-- find out using .shape) to 50\n",
        "# 10. A ReLU\n",
        "# 11. A fully connected layer mapping from 50 to 10 dimensions\n",
        "# 12. A softmax function.\n",
        "\n",
        "# Replace this class which implements a minimal network (which still does okay)\n",
        "class Net(nn.Module):\n",
        "    def __init__(self):\n",
        "        super(Net, self).__init__()\n",
        "        # Valid convolution, 1 channel in, 10 channels out, stride 1, kernel size = 5\n",
        "        self.conv1 = nn.Conv2d(1, 10, kernel_size=5)\n",
        "        # Valid convolution, 10 channels in, 20 channels out, stride 1, kernel size = 5\n",
        "        self.conv2 = nn.Conv2d(10, 20, kernel_size=5)\n",
        "        # Dropout for convolutions\n",
        "        self.drop = nn.Dropout2d()\n",
        "        # Fully connected layer\n",
        "        self.fc1 = nn.Linear(320, 50)\n",
        "        self.fc2 = nn.Linear(50, 10)\n",
        "        self.flatten = nn.Flatten(1)\n",
        "\n",
        "    def forward(self, x):\n",
        "        x = self.conv1(x)\n",
        "        x = F.max_pool2d(x,2)\n",
        "        x = F.relu(x)\n",
        "        x = self.conv2(x)\n",
        "        x = self.drop(x)\n",
        "        x = F.max_pool2d(x,2)\n",
        "        x = F.relu(x)\n",
        "        x = self.flatten(x)\n",
        "        x = self.fc1(x)\n",
        "        x = F.relu(x)\n",
        "        x = self.fc2(x)\n",
        "        x = F.log_softmax(x)\n",
        "        return x\n",
        "\n",
        "\n",
        "\n",
        "\n"
      ],
      "metadata": {
        "id": "EQkvw2KOPVl7"
      },
      "execution_count": 55,
      "outputs": []
    },
    {
      "cell_type": "code",
      "source": [
        "# He initialization of weights\n",
        "def weights_init(layer_in):\n",
        "  if isinstance(layer_in, nn.Linear):\n",
        "    nn.init.kaiming_uniform_(layer_in.weight)\n",
        "    layer_in.bias.data.fill_(0.0)"
      ],
      "metadata": {
        "id": "qWZtkCZcU_dg"
      },
      "execution_count": 56,
      "outputs": []
    },
    {
      "cell_type": "code",
      "source": [
        "# Create network\n",
        "model = Net()\n",
        "# Initialize model weights\n",
        "model.apply(weights_init)\n",
        "# Define optimizer\n",
        "optimizer = optim.SGD(model.parameters(), lr=0.01, momentum=0.5)"
      ],
      "metadata": {
        "id": "FslroPJJffrh"
      },
      "execution_count": 57,
      "outputs": []
    },
    {
      "cell_type": "code",
      "source": [
        "# Main training routine\n",
        "def train(epoch):\n",
        "  model.train()\n",
        "  # Get each\n",
        "  for batch_idx, (data, target) in enumerate(train_loader):\n",
        "    optimizer.zero_grad()\n",
        "    output = model(data)\n",
        "    loss = F.nll_loss(output, target)\n",
        "    loss.backward()\n",
        "    optimizer.step()\n",
        "    # Store results\n",
        "    if batch_idx % 10 == 0:\n",
        "      print('Train Epoch: {} [{}/{}]\\tLoss: {:.6f}'.format(\n",
        "        epoch, batch_idx * len(data), len(train_loader.dataset), loss.item()))"
      ],
      "metadata": {
        "id": "xKQd9PzkQ766"
      },
      "execution_count": 58,
      "outputs": []
    },
    {
      "cell_type": "code",
      "source": [
        "# Run on test data\n",
        "def test():\n",
        "  model.eval()\n",
        "  test_loss = 0\n",
        "  correct = 0\n",
        "  with torch.no_grad():\n",
        "    for data, target in test_loader:\n",
        "      output = model(data)\n",
        "      test_loss += F.nll_loss(output, target, size_average=False).item()\n",
        "      pred = output.data.max(1, keepdim=True)[1]\n",
        "      correct += pred.eq(target.data.view_as(pred)).sum()\n",
        "  test_loss /= len(test_loader.dataset)\n",
        "  print('\\nTest set: Avg. loss: {:.4f}, Accuracy: {}/{} ({:.0f}%)\\n'.format(\n",
        "    test_loss, correct, len(test_loader.dataset),\n",
        "    100. * correct / len(test_loader.dataset)))"
      ],
      "metadata": {
        "id": "Byn-f7qWRLxX"
      },
      "execution_count": 59,
      "outputs": []
    },
    {
      "cell_type": "code",
      "source": [
        "# Get initial performance\n",
        "test()\n",
        "# Train for three epochs\n",
        "n_epochs = 3\n",
        "for epoch in range(1, n_epochs + 1):\n",
        "  train(epoch)\n",
        "  test()"
      ],
      "metadata": {
        "id": "YgLaex1pfhqz",
        "outputId": "dc0104d2-3d12-464f-995f-2e098f61336b",
        "colab": {
          "base_uri": "https://localhost:8080/"
        }
      },
      "execution_count": null,
      "outputs": [
        {
          "output_type": "stream",
          "name": "stderr",
          "text": [
            "<ipython-input-55-325f7588eed7>:43: UserWarning: Implicit dimension choice for log_softmax has been deprecated. Change the call to include dim=X as an argument.\n",
            "  x = F.log_softmax(x)\n"
          ]
        },
        {
          "output_type": "stream",
          "name": "stdout",
          "text": [
            "\n",
            "Test set: Avg. loss: 2.3988, Accuracy: 634/10000 (6%)\n",
            "\n",
            "Train Epoch: 1 [0/60000]\tLoss: 2.443536\n",
            "Train Epoch: 1 [640/60000]\tLoss: 2.199096\n",
            "Train Epoch: 1 [1280/60000]\tLoss: 2.114431\n",
            "Train Epoch: 1 [1920/60000]\tLoss: 1.882071\n",
            "Train Epoch: 1 [2560/60000]\tLoss: 1.684038\n",
            "Train Epoch: 1 [3200/60000]\tLoss: 1.496941\n",
            "Train Epoch: 1 [3840/60000]\tLoss: 1.269814\n",
            "Train Epoch: 1 [4480/60000]\tLoss: 1.426161\n",
            "Train Epoch: 1 [5120/60000]\tLoss: 0.989255\n",
            "Train Epoch: 1 [5760/60000]\tLoss: 0.803422\n",
            "Train Epoch: 1 [6400/60000]\tLoss: 0.994983\n",
            "Train Epoch: 1 [7040/60000]\tLoss: 0.872278\n",
            "Train Epoch: 1 [7680/60000]\tLoss: 0.738879\n",
            "Train Epoch: 1 [8320/60000]\tLoss: 0.741261\n",
            "Train Epoch: 1 [8960/60000]\tLoss: 0.649210\n",
            "Train Epoch: 1 [9600/60000]\tLoss: 0.655513\n",
            "Train Epoch: 1 [10240/60000]\tLoss: 0.536260\n",
            "Train Epoch: 1 [10880/60000]\tLoss: 0.678354\n",
            "Train Epoch: 1 [11520/60000]\tLoss: 0.641944\n",
            "Train Epoch: 1 [12160/60000]\tLoss: 0.789967\n",
            "Train Epoch: 1 [12800/60000]\tLoss: 0.425445\n",
            "Train Epoch: 1 [13440/60000]\tLoss: 0.584247\n",
            "Train Epoch: 1 [14080/60000]\tLoss: 0.501052\n",
            "Train Epoch: 1 [14720/60000]\tLoss: 0.655599\n",
            "Train Epoch: 1 [15360/60000]\tLoss: 0.302309\n",
            "Train Epoch: 1 [16000/60000]\tLoss: 0.483065\n",
            "Train Epoch: 1 [16640/60000]\tLoss: 0.577558\n",
            "Train Epoch: 1 [17280/60000]\tLoss: 0.560455\n",
            "Train Epoch: 1 [17920/60000]\tLoss: 0.416943\n",
            "Train Epoch: 1 [18560/60000]\tLoss: 0.461283\n",
            "Train Epoch: 1 [19200/60000]\tLoss: 0.388496\n",
            "Train Epoch: 1 [19840/60000]\tLoss: 0.468467\n",
            "Train Epoch: 1 [20480/60000]\tLoss: 0.366435\n",
            "Train Epoch: 1 [21120/60000]\tLoss: 0.390314\n",
            "Train Epoch: 1 [21760/60000]\tLoss: 0.653554\n",
            "Train Epoch: 1 [22400/60000]\tLoss: 0.288509\n",
            "Train Epoch: 1 [23040/60000]\tLoss: 0.353126\n",
            "Train Epoch: 1 [23680/60000]\tLoss: 0.350856\n",
            "Train Epoch: 1 [24320/60000]\tLoss: 0.740535\n",
            "Train Epoch: 1 [24960/60000]\tLoss: 0.422624\n",
            "Train Epoch: 1 [25600/60000]\tLoss: 0.269383\n",
            "Train Epoch: 1 [26240/60000]\tLoss: 0.322419\n",
            "Train Epoch: 1 [26880/60000]\tLoss: 0.515393\n",
            "Train Epoch: 1 [27520/60000]\tLoss: 0.524968\n",
            "Train Epoch: 1 [28160/60000]\tLoss: 0.210532\n",
            "Train Epoch: 1 [28800/60000]\tLoss: 0.409519\n",
            "Train Epoch: 1 [29440/60000]\tLoss: 0.394978\n",
            "Train Epoch: 1 [30080/60000]\tLoss: 0.260515\n",
            "Train Epoch: 1 [30720/60000]\tLoss: 0.176900\n",
            "Train Epoch: 1 [31360/60000]\tLoss: 0.495545\n",
            "Train Epoch: 1 [32000/60000]\tLoss: 0.274231\n",
            "Train Epoch: 1 [32640/60000]\tLoss: 0.554380\n",
            "Train Epoch: 1 [33280/60000]\tLoss: 0.283273\n",
            "Train Epoch: 1 [33920/60000]\tLoss: 0.195021\n",
            "Train Epoch: 1 [34560/60000]\tLoss: 0.375637\n",
            "Train Epoch: 1 [35200/60000]\tLoss: 0.173567\n",
            "Train Epoch: 1 [35840/60000]\tLoss: 0.425709\n",
            "Train Epoch: 1 [36480/60000]\tLoss: 0.364736\n",
            "Train Epoch: 1 [37120/60000]\tLoss: 0.298705\n",
            "Train Epoch: 1 [37760/60000]\tLoss: 0.237320\n",
            "Train Epoch: 1 [38400/60000]\tLoss: 0.290621\n",
            "Train Epoch: 1 [39040/60000]\tLoss: 0.344299\n",
            "Train Epoch: 1 [39680/60000]\tLoss: 0.503628\n",
            "Train Epoch: 1 [40320/60000]\tLoss: 0.276644\n",
            "Train Epoch: 1 [40960/60000]\tLoss: 0.151417\n",
            "Train Epoch: 1 [41600/60000]\tLoss: 0.382507\n",
            "Train Epoch: 1 [42240/60000]\tLoss: 0.235684\n",
            "Train Epoch: 1 [42880/60000]\tLoss: 0.172516\n",
            "Train Epoch: 1 [43520/60000]\tLoss: 0.248245\n",
            "Train Epoch: 1 [44160/60000]\tLoss: 0.209742\n",
            "Train Epoch: 1 [44800/60000]\tLoss: 0.289195\n",
            "Train Epoch: 1 [45440/60000]\tLoss: 0.410708\n",
            "Train Epoch: 1 [46080/60000]\tLoss: 0.344328\n",
            "Train Epoch: 1 [46720/60000]\tLoss: 0.232345\n",
            "Train Epoch: 1 [47360/60000]\tLoss: 0.174697\n",
            "Train Epoch: 1 [48000/60000]\tLoss: 0.284722\n",
            "Train Epoch: 1 [48640/60000]\tLoss: 0.229406\n",
            "Train Epoch: 1 [49280/60000]\tLoss: 0.295803\n",
            "Train Epoch: 1 [49920/60000]\tLoss: 0.501860\n",
            "Train Epoch: 1 [50560/60000]\tLoss: 0.452779\n",
            "Train Epoch: 1 [51200/60000]\tLoss: 0.196572\n",
            "Train Epoch: 1 [51840/60000]\tLoss: 0.218350\n",
            "Train Epoch: 1 [52480/60000]\tLoss: 0.292821\n",
            "Train Epoch: 1 [53120/60000]\tLoss: 0.247063\n",
            "Train Epoch: 1 [53760/60000]\tLoss: 0.170700\n",
            "Train Epoch: 1 [54400/60000]\tLoss: 0.313144\n",
            "Train Epoch: 1 [55040/60000]\tLoss: 0.354155\n",
            "Train Epoch: 1 [55680/60000]\tLoss: 0.302661\n",
            "Train Epoch: 1 [56320/60000]\tLoss: 0.116874\n",
            "Train Epoch: 1 [56960/60000]\tLoss: 0.296335\n",
            "Train Epoch: 1 [57600/60000]\tLoss: 0.235330\n",
            "Train Epoch: 1 [58240/60000]\tLoss: 0.259019\n",
            "Train Epoch: 1 [58880/60000]\tLoss: 0.296517\n",
            "Train Epoch: 1 [59520/60000]\tLoss: 0.176582\n",
            "\n",
            "Test set: Avg. loss: 0.1387, Accuracy: 9568/10000 (96%)\n",
            "\n",
            "Train Epoch: 2 [0/60000]\tLoss: 0.094969\n",
            "Train Epoch: 2 [640/60000]\tLoss: 0.421128\n",
            "Train Epoch: 2 [1280/60000]\tLoss: 0.358239\n",
            "Train Epoch: 2 [1920/60000]\tLoss: 0.277343\n",
            "Train Epoch: 2 [2560/60000]\tLoss: 0.282175\n",
            "Train Epoch: 2 [3200/60000]\tLoss: 0.223134\n",
            "Train Epoch: 2 [3840/60000]\tLoss: 0.244448\n",
            "Train Epoch: 2 [4480/60000]\tLoss: 0.224881\n",
            "Train Epoch: 2 [5120/60000]\tLoss: 0.205242\n",
            "Train Epoch: 2 [5760/60000]\tLoss: 0.238936\n",
            "Train Epoch: 2 [6400/60000]\tLoss: 0.159769\n",
            "Train Epoch: 2 [7040/60000]\tLoss: 0.172236\n",
            "Train Epoch: 2 [7680/60000]\tLoss: 0.248882\n",
            "Train Epoch: 2 [8320/60000]\tLoss: 0.125883\n",
            "Train Epoch: 2 [8960/60000]\tLoss: 0.207350\n",
            "Train Epoch: 2 [9600/60000]\tLoss: 0.098421\n",
            "Train Epoch: 2 [10240/60000]\tLoss: 0.148515\n",
            "Train Epoch: 2 [10880/60000]\tLoss: 0.221305\n",
            "Train Epoch: 2 [11520/60000]\tLoss: 0.521565\n",
            "Train Epoch: 2 [12160/60000]\tLoss: 0.242429\n",
            "Train Epoch: 2 [12800/60000]\tLoss: 0.253145\n",
            "Train Epoch: 2 [13440/60000]\tLoss: 0.173915\n",
            "Train Epoch: 2 [14080/60000]\tLoss: 0.368846\n",
            "Train Epoch: 2 [14720/60000]\tLoss: 0.315065\n",
            "Train Epoch: 2 [15360/60000]\tLoss: 0.225592\n",
            "Train Epoch: 2 [16000/60000]\tLoss: 0.276644\n",
            "Train Epoch: 2 [16640/60000]\tLoss: 0.372174\n",
            "Train Epoch: 2 [17280/60000]\tLoss: 0.157227\n",
            "Train Epoch: 2 [17920/60000]\tLoss: 0.244545\n",
            "Train Epoch: 2 [18560/60000]\tLoss: 0.154759\n",
            "Train Epoch: 2 [19200/60000]\tLoss: 0.150953\n",
            "Train Epoch: 2 [19840/60000]\tLoss: 0.295592\n",
            "Train Epoch: 2 [20480/60000]\tLoss: 0.293186\n",
            "Train Epoch: 2 [21120/60000]\tLoss: 0.150112\n",
            "Train Epoch: 2 [21760/60000]\tLoss: 0.194478\n",
            "Train Epoch: 2 [22400/60000]\tLoss: 0.338640\n",
            "Train Epoch: 2 [23040/60000]\tLoss: 0.353283\n"
          ]
        }
      ]
    },
    {
      "cell_type": "code",
      "source": [
        "# Run network on data we got before and show predictions\n",
        "output = model(example_data)\n",
        "\n",
        "fig = plt.figure()\n",
        "for i in range(10):\n",
        "  plt.subplot(5,5,i+1)\n",
        "  plt.tight_layout()\n",
        "  plt.imshow(example_data[i][0], cmap='gray', interpolation='none')\n",
        "  plt.title(\"Prediction: {}\".format(\n",
        "    output.data.max(1, keepdim=True)[1][i].item()))\n",
        "  plt.xticks([])\n",
        "  plt.yticks([])\n",
        "plt.show()"
      ],
      "metadata": {
        "id": "o7fRUAy9Se1B",
        "outputId": "895a81fb-0ccd-4166-fe25-2a141d6c05be",
        "colab": {
          "base_uri": "https://localhost:8080/",
          "height": 263
        }
      },
      "execution_count": 11,
      "outputs": [
        {
          "output_type": "stream",
          "name": "stderr",
          "text": [
            "<ipython-input-5-4e4b7d3d78d6>:34: UserWarning: Implicit dimension choice for log_softmax has been deprecated. Change the call to include dim=X as an argument.\n",
            "  x = F.log_softmax(x)\n"
          ]
        },
        {
          "output_type": "display_data",
          "data": {
            "text/plain": [
              "<Figure size 640x480 with 10 Axes>"
            ],
            "image/png": "[encoded data removed]"
          },
          "metadata": {}
        }
      ]
    }
  ]
}